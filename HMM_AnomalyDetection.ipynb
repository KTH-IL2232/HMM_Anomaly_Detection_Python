{
 "cells": [
  {
   "cell_type": "code",
   "execution_count": 237,
   "id": "cc34dbd7",
   "metadata": {},
   "outputs": [],
   "source": [
    "import numpy as np\n",
    "import matplotlib.pyplot as plt\n",
    "import scipy.io as sio\n",
    "\n",
    "from hmmlearn import hmm\n",
    "from sklearn.model_selection import train_test_split\n",
    "from sklearn import preprocessing\n",
    "\n",
    "np.random.seed(42)"
   ]
  },
  {
   "cell_type": "code",
   "execution_count": 238,
   "id": "1bdade25",
   "metadata": {},
   "outputs": [],
   "source": [
    "# load dataset\n",
    "dataset = sio.loadmat('/Users/yang/Desktop/IL2232/MyCode/PythonVersionHMM/dataset/lympho.mat')\n",
    "\n",
    "# first 6 data are outliers => extract them\n",
    "n_anomaly = 6\n",
    "lengthX = len(dataset['X'])\n",
    "lengthY = len(dataset['y'])\n",
    "outlierX = dataset['X'][:n_anomaly]\n",
    "outlierY = dataset['y'][:n_anomaly] # all ones\n",
    "nomialX = dataset['X'][n_anomaly:lengthX]\n",
    "nomialY = dataset['y'][n_anomaly:lengthY]\n",
    "\n",
    "# train test split\n",
    "X_train, X_test, y_train, y_test = train_test_split(\n",
    "    nomialX, nomialY, test_size = 0.3)\n",
    "X_test = np.concatenate((outlierX, X_test), axis = 0)\n",
    "y_test = np.concatenate((outlierY, y_test), axis = 0)\n",
    "\n",
    "# concatenate the data into sequences used for fit and predict\n",
    "X_train_arr = X_train[0]\n",
    "X_test_arr = X_test[0]\n",
    "X_train_len = [len(X_train[0])]\n",
    "X_test_len = [len(X_test[0])]\n",
    "for i in range(X_train.shape[0] - 1):\n",
    "    X_train_arr = np.concatenate([X_train_arr, X_train[i + 1]])\n",
    "    X_train_len = np.concatenate([X_train_len, [len(X_train[i + 1])]])\n",
    "\n",
    "for i in range(X_test.shape[0] - 1):\n",
    "    X_test_arr = np.concatenate([X_test_arr, X_test[i + 1]])\n",
    "    X_test_len = np.concatenate([X_test_len, [len(X_test[i + 1])]])\n"
   ]
  },
  {
   "cell_type": "code",
   "execution_count": 239,
   "id": "b70220b2",
   "metadata": {},
   "outputs": [],
   "source": [
    "# initialize the model\n",
    "n_components = 30\n",
    "n_features = 8\n",
    "model = hmm.MultinomialHMM(n_components = n_components)\n",
    "\n",
    "# initialize number of features V\n",
    "model.n_features = n_features\n",
    "\n",
    "# initialize the starte probability matrix pi\n",
    "# always start from state 0\n",
    "# model.startprob_ = np.concatenate(\n",
    "#   [[1.], np.zeros(n_components - 1)])\n",
    "# model.startprob_ = np.random.dirichlet(np.ones(n_components))\n",
    "\n",
    "# initialize the transission probability matrix\n",
    "# for i in range(n_components):\n",
    "#    transmat[i] = np.random.dirichlet(np.ones(n_components))\n",
    "#    emissionprob[i] = np.random.dirichlet(n_features)\n",
    "    \n",
    "# model.transmat_ = transmat\n",
    "# model.emissionprob_ = emissionprob"
   ]
  },
  {
   "cell_type": "code",
   "execution_count": 240,
   "id": "2e46fde4",
   "metadata": {},
   "outputs": [
    {
     "data": {
      "text/plain": [
       "LabelEncoder()"
      ]
     },
     "execution_count": 240,
     "metadata": {},
     "output_type": "execute_result"
    }
   ],
   "source": [
    "# label\n",
    "le = preprocessing.LabelEncoder()\n",
    "le.fit([1., 2., 3., 4., 5., 6., 7., 8.])"
   ]
  },
  {
   "cell_type": "code",
   "execution_count": 241,
   "id": "ed5b6acf",
   "metadata": {
    "scrolled": true
   },
   "outputs": [
    {
     "data": {
      "text/plain": [
       "MultinomialHMM(n_components=30,\n",
       "               random_state=RandomState(MT19937) at 0x7FBE585B5340)"
      ]
     },
     "execution_count": 241,
     "metadata": {},
     "output_type": "execute_result"
    }
   ],
   "source": [
    "data = X_train_arr\n",
    "data = le.transform(data)\n",
    "model.fit(data.reshape(-1, 1), X_train_len)"
   ]
  },
  {
   "cell_type": "code",
   "execution_count": 242,
   "id": "28a8eb6f",
   "metadata": {},
   "outputs": [
    {
     "data": {
      "text/plain": [
       "-1082.1604890826663"
      ]
     },
     "execution_count": 242,
     "metadata": {},
     "output_type": "execute_result"
    }
   ],
   "source": [
    "data = X_test_arr\n",
    "data = le.transform(data)\n",
    "model.score(data.reshape(-1, 1), X_test_len)"
   ]
  },
  {
   "cell_type": "code",
   "execution_count": 243,
   "id": "62554047",
   "metadata": {
    "scrolled": true
   },
   "outputs": [
    {
     "data": {
      "image/png": "[encoded data removed]",
      "text/plain": [
       "<Figure size 432x288 with 1 Axes>"
      ]
     },
     "metadata": {
      "needs_background": "light"
     },
     "output_type": "display_data"
    },
    {
     "name": "stdout",
     "output_type": "stream",
     "text": [
      "[23 27 29 23 21  1  2 12  9  0 28 13  1 20  0 26 25 16  0 22  8 24 13 13\n",
      " 27 26  4  7 27  7 16 28  6 18 29 18 29  7  4 16 29  5  6 16 29 28  5 29\n",
      "  2 21 25  9 24 19  6 27  3  8  9 22 19 15  1 27  6 21  5 17 28 16  2 23\n",
      " 12 11  9 19 16 17 11  3 28  6 28 28 29 28  0  3 12  5 10 24  5 21  6 11\n",
      "  9  3 27 11]\n"
     ]
    }
   ],
   "source": [
    "# Generate samples\n",
    "X, Z = model.sample(n_samples = 100, random_state = 13)\n",
    "\n",
    "# Plot the sampled data\n",
    "plt.plot(X[:, 0], \".-\", label=\"observations\", ms=6,\n",
    "         mfc=\"orange\", alpha=0.7)\n",
    "\n",
    "plt.show()\n",
    "\n",
    "print(Z)"
   ]
  },
  {
   "cell_type": "code",
   "execution_count": null,
   "id": "c78722b8",
   "metadata": {},
   "outputs": [],
   "source": []
  },
  {
   "cell_type": "code",
   "execution_count": null,
   "id": "d5be8c62",
   "metadata": {},
   "outputs": [],
   "source": []
  }
 ],
 "metadata": {
  "kernelspec": {
   "display_name": "Python 3",
   "language": "python",
   "name": "python3"
  },
  "language_info": {
   "codemirror_mode": {
    "name": "ipython",
    "version": 3
   },
   "file_extension": ".py",
   "mimetype": "text/x-python",
   "name": "python",
   "nbconvert_exporter": "python",
   "pygments_lexer": "ipython3",
   "version": "3.8.8"
  }
 },
 "nbformat": 4,
 "nbformat_minor": 5
}
