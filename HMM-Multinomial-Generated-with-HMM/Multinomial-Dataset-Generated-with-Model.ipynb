{
 "cells": [
  {
   "cell_type": "code",
   "execution_count": 1,
   "id": "24ec2fe1",
   "metadata": {},
   "outputs": [],
   "source": [
    "import numpy as np\n",
    "import matplotlib.pyplot as plt\n",
    "import scipy.io as sio\n",
    "\n",
    "from hmmlearn import hmm\n",
    "from sklearn.model_selection import train_test_split\n",
    "from sklearn import preprocessing\n",
    "\n",
    "np.random.seed(42)"
   ]
  },
  {
   "cell_type": "code",
   "execution_count": 2,
   "id": "03917700",
   "metadata": {},
   "outputs": [],
   "source": [
    "\"\"\"define models\"\"\"\n",
    "# parameters\n",
    "n_components = 2\n",
    "n_features = 2\n",
    "pi_normal = np.array([0.75, 0.25])\n",
    "A_normal = np.array([[1 - 0.0625, 0.0625], [0.0625, 1 - 0.0625]])\n",
    "B_normal = np.array([[1 - 0.0625, 0.0625], [0.0625, 1 - 0.0625]])\n",
    "pi_abnormal = pi_normal\n",
    "A_abnormal = np.array([[0.0625, 1 - 0.0625], [1 - 0.0625, 0.0625]])\n",
    "B_abnormal = B_normal\n",
    "\n",
    "# normal model\n",
    "model_n = hmm.MultinomialHMM(n_components = n_components)\n",
    "model_n.n_features = n_features\n",
    "model_n.startprob_ = pi_normal\n",
    "model_n.transmat_ = A_normal\n",
    "model_n.emissionprob_ = B_normal\n",
    "\n",
    "# abnormal model\n",
    "\n",
    "model_a = hmm.MultinomialHMM(n_components = n_components)\n",
    "model_a.n_features = n_features\n",
    "model_a.startprob_ = pi_abnormal\n",
    "model_a.transmat_ = A_abnormal\n",
    "model_a.emissionprob_ = B_abnormal"
   ]
  },
  {
   "cell_type": "code",
   "execution_count": 3,
   "id": "4a179667",
   "metadata": {},
   "outputs": [],
   "source": [
    "\"\"\"generate n & a dataset\"\"\"\n",
    "n_samples = 10\n",
    "n_samples_n = n_samples\n",
    "n_seq_n = 5\n",
    "n_samples_a = n_samples\n",
    "n_seq_a = 5\n",
    "# normal dataset\n",
    "X_n = [0] * n_seq_n\n",
    "for i in range(n_seq_n):\n",
    "    X_n[i], Z_n = model_n.sample(n_samples = n_samples_n, random_state = i * 17)\n",
    "\n",
    "# abnormal dataset\n",
    "X_a = [0] * n_seq_a\n",
    "for i in range(n_seq_a):\n",
    "    X_a[i], Z_a = model_a.sample(n_samples = n_samples_a, random_state = i * 13)"
   ]
  },
  {
   "cell_type": "code",
   "execution_count": 4,
   "id": "e1fdd7f8",
   "metadata": {},
   "outputs": [],
   "source": [
    "\"\"\"score the dataset\"\"\"\n",
    "# normal score\n",
    "score_n = [0] * n_seq_n\n",
    "for i in range(n_seq_n):\n",
    "    score_n[i] = model_n.score(X_n[i])\n",
    "    \n",
    "# abnormal score\n",
    "score_a = [0] * n_seq_a\n",
    "for i in range(n_seq_a):\n",
    "    score_a[i] = model_n.score(X_a[i])"
   ]
  },
  {
   "cell_type": "code",
   "execution_count": 8,
   "id": "27630c56",
   "metadata": {},
   "outputs": [
    {
     "data": {
      "image/png": "[encoded data removed]",
      "text/plain": [
       "<Figure size 432x288 with 1 Axes>"
      ]
     },
     "metadata": {
      "needs_background": "light"
     },
     "output_type": "display_data"
    }
   ],
   "source": [
    "\"\"\"plot the score\"\"\"\n",
    "plt.plot(score_n, \"-\", label = \"scores for normal sequences\", color = \"black\")\n",
    "plt.plot(score_a, \"--\", label = \"scores for anomalies\", color = \"black\")\n",
    "plt.legend()\n",
    "plt.show()"
   ]
  },
  {
   "cell_type": "code",
   "execution_count": 76,
   "id": "e49a85f4",
   "metadata": {},
   "outputs": [],
   "source": [
    "\"\"\"import dec2hex, Tiancheng's path\"\"\"\n",
    "import sys\n",
    "#Tiancheng path\n",
    "sys.path.insert(0, '/Users/yang/Desktop/IL2232/MyCode/PythonVersionHMM/script')\n",
    "import DataTypeConverter as dc"
   ]
  },
  {
   "cell_type": "code",
   "execution_count": 95,
   "id": "4b613c93",
   "metadata": {},
   "outputs": [
    {
     "name": "stdout",
     "output_type": "stream",
     "text": [
      "n_samples = 10\n",
      "n_sequences = 10\n",
      "n_features = 2\n",
      "n_components = 2\n",
      "Pi =\n",
      "i = 0xc0000000\n",
      "i = 0x40000000\n",
      "A[i][j] = 0xf0000000\n",
      "A[i][j] = 0x10000000\n",
      "A[i][j] = 0x10000000\n",
      "A[i][j] = 0xf0000000\n",
      "threshold = 0.0003354626279 = 0x15fc21\n"
     ]
    }
   ],
   "source": [
    "print(\"n_samples =\", n_samples)\n",
    "print(\"n_sequences =\", n_seq_a + n_seq_n)\n",
    "print(\"n_features =\", n_features)\n",
    "print(\"n_components =\", n_components)\n",
    "print(\"Pi =\")\n",
    "for i in pi_normal:\n",
    "    print(\"i =\", dc.Dec2hex(i, 64, 32, \"signed\"))\n",
    "for i in A_normal:\n",
    "    for j in i:\n",
    "        print(\"A[i][j] =\", dc.Dec2hex(j, 64, 32, \"signed\"))\n",
    "threshold = 0.0003354626279\n",
    "print(\"threshold =\", threshold, \"=\", dc.Dec2hex(threshold, 64, 32, \"signed\"))"
   ]
  },
  {
   "cell_type": "code",
   "execution_count": 82,
   "id": "14be26d4",
   "metadata": {},
   "outputs": [
    {
     "name": "stdout",
     "output_type": "stream",
     "text": [
      "X_n[ 0 ][ 0 ] = 0x0\n",
      "X_n[ 0 ][ 1 ] = 0x0\n",
      "X_n[ 0 ][ 2 ] = 0x0\n",
      "X_n[ 0 ][ 3 ] = 0x0\n",
      "X_n[ 0 ][ 4 ] = 0x100000000\n",
      "X_n[ 0 ][ 5 ] = 0x100000000\n",
      "X_n[ 0 ][ 6 ] = 0x100000000\n",
      "X_n[ 0 ][ 7 ] = 0x100000000\n",
      "X_n[ 0 ][ 8 ] = 0x0\n",
      "X_n[ 0 ][ 9 ] = 0x0\n",
      "X_n[ 1 ][ 0 ] = 0x0\n",
      "X_n[ 1 ][ 1 ] = 0x0\n",
      "X_n[ 1 ][ 2 ] = 0x0\n",
      "X_n[ 1 ][ 3 ] = 0x0\n",
      "X_n[ 1 ][ 4 ] = 0x0\n",
      "X_n[ 1 ][ 5 ] = 0x0\n",
      "X_n[ 1 ][ 6 ] = 0x100000000\n",
      "X_n[ 1 ][ 7 ] = 0x0\n",
      "X_n[ 1 ][ 8 ] = 0x0\n",
      "X_n[ 1 ][ 9 ] = 0x0\n",
      "X_n[ 2 ][ 0 ] = 0x0\n",
      "X_n[ 2 ][ 1 ] = 0x0\n",
      "X_n[ 2 ][ 2 ] = 0x0\n",
      "X_n[ 2 ][ 3 ] = 0x0\n",
      "X_n[ 2 ][ 4 ] = 0x0\n",
      "X_n[ 2 ][ 5 ] = 0x0\n",
      "X_n[ 2 ][ 6 ] = 0x0\n",
      "X_n[ 2 ][ 7 ] = 0x0\n",
      "X_n[ 2 ][ 8 ] = 0x0\n",
      "X_n[ 2 ][ 9 ] = 0x0\n",
      "X_n[ 3 ][ 0 ] = 0x0\n",
      "X_n[ 3 ][ 1 ] = 0x0\n",
      "X_n[ 3 ][ 2 ] = 0x100000000\n",
      "X_n[ 3 ][ 3 ] = 0x0\n",
      "X_n[ 3 ][ 4 ] = 0x0\n",
      "X_n[ 3 ][ 5 ] = 0x0\n",
      "X_n[ 3 ][ 6 ] = 0x0\n",
      "X_n[ 3 ][ 7 ] = 0x0\n",
      "X_n[ 3 ][ 8 ] = 0x0\n",
      "X_n[ 3 ][ 9 ] = 0x0\n",
      "X_n[ 4 ][ 0 ] = 0x0\n",
      "X_n[ 4 ][ 1 ] = 0x0\n",
      "X_n[ 4 ][ 2 ] = 0x0\n",
      "X_n[ 4 ][ 3 ] = 0x0\n",
      "X_n[ 4 ][ 4 ] = 0x0\n",
      "X_n[ 4 ][ 5 ] = 0x0\n",
      "X_n[ 4 ][ 6 ] = 0x100000000\n",
      "X_n[ 4 ][ 7 ] = 0x100000000\n",
      "X_n[ 4 ][ 8 ] = 0x100000000\n",
      "X_n[ 4 ][ 9 ] = 0x100000000\n",
      "X_a[ 0 ][ 0 ] = 0x0\n",
      "X_a[ 0 ][ 1 ] = 0x100000000\n",
      "X_a[ 0 ][ 2 ] = 0x0\n",
      "X_a[ 0 ][ 3 ] = 0x100000000\n",
      "X_a[ 0 ][ 4 ] = 0x100000000\n",
      "X_a[ 0 ][ 5 ] = 0x0\n",
      "X_a[ 0 ][ 6 ] = 0x100000000\n",
      "X_a[ 0 ][ 7 ] = 0x0\n",
      "X_a[ 0 ][ 8 ] = 0x0\n",
      "X_a[ 0 ][ 9 ] = 0x100000000\n",
      "X_a[ 1 ][ 0 ] = 0x100000000\n",
      "X_a[ 1 ][ 1 ] = 0x100000000\n",
      "X_a[ 1 ][ 2 ] = 0x100000000\n",
      "X_a[ 1 ][ 3 ] = 0x0\n",
      "X_a[ 1 ][ 4 ] = 0x100000000\n",
      "X_a[ 1 ][ 5 ] = 0x0\n",
      "X_a[ 1 ][ 6 ] = 0x0\n",
      "X_a[ 1 ][ 7 ] = 0x100000000\n",
      "X_a[ 1 ][ 8 ] = 0x0\n",
      "X_a[ 1 ][ 9 ] = 0x0\n",
      "X_a[ 2 ][ 0 ] = 0x0\n",
      "X_a[ 2 ][ 1 ] = 0x100000000\n",
      "X_a[ 2 ][ 2 ] = 0x0\n",
      "X_a[ 2 ][ 3 ] = 0x100000000\n",
      "X_a[ 2 ][ 4 ] = 0x0\n",
      "X_a[ 2 ][ 5 ] = 0x100000000\n",
      "X_a[ 2 ][ 6 ] = 0x0\n",
      "X_a[ 2 ][ 7 ] = 0x100000000\n",
      "X_a[ 2 ][ 8 ] = 0x100000000\n",
      "X_a[ 2 ][ 9 ] = 0x0\n",
      "X_a[ 3 ][ 0 ] = 0x0\n",
      "X_a[ 3 ][ 1 ] = 0x100000000\n",
      "X_a[ 3 ][ 2 ] = 0x0\n",
      "X_a[ 3 ][ 3 ] = 0x100000000\n",
      "X_a[ 3 ][ 4 ] = 0x0\n",
      "X_a[ 3 ][ 5 ] = 0x100000000\n",
      "X_a[ 3 ][ 6 ] = 0x0\n",
      "X_a[ 3 ][ 7 ] = 0x100000000\n",
      "X_a[ 3 ][ 8 ] = 0x0\n",
      "X_a[ 3 ][ 9 ] = 0x100000000\n",
      "X_a[ 4 ][ 0 ] = 0x0\n",
      "X_a[ 4 ][ 1 ] = 0x0\n",
      "X_a[ 4 ][ 2 ] = 0x100000000\n",
      "X_a[ 4 ][ 3 ] = 0x100000000\n",
      "X_a[ 4 ][ 4 ] = 0x100000000\n",
      "X_a[ 4 ][ 5 ] = 0x0\n",
      "X_a[ 4 ][ 6 ] = 0x100000000\n",
      "X_a[ 4 ][ 7 ] = 0x0\n",
      "X_a[ 4 ][ 8 ] = 0x100000000\n",
      "X_a[ 4 ][ 9 ] = 0x0\n"
     ]
    }
   ],
   "source": [
    "\"\"\"output the dataset\"\"\"\n",
    "for i in range(n_seq_n):\n",
    "    for j in range(n_samples_n):\n",
    "        print(\"X_n[\", i, \"][\", j, \"] =\", dc.Dec2hex(X_n[i][j], 64, 32, \"signed\"))\n",
    "for i in range(n_seq_a):\n",
    "    for j in range(n_samples_a):\n",
    "        print(\"X_a[\", i, \"][\", j, \"] =\", dc.Dec2hex(X_a[i][j], 64, 32, \"signed\"))"
   ]
  },
  {
   "cell_type": "code",
   "execution_count": null,
   "id": "f571b99c",
   "metadata": {},
   "outputs": [],
   "source": []
  }
 ],
 "metadata": {
  "kernelspec": {
   "display_name": "Python 3",
   "language": "python",
   "name": "python3"
  },
  "language_info": {
   "codemirror_mode": {
    "name": "ipython",
    "version": 3
   },
   "file_extension": ".py",
   "mimetype": "text/x-python",
   "name": "python",
   "nbconvert_exporter": "python",
   "pygments_lexer": "ipython3",
   "version": "3.8.8"
  }
 },
 "nbformat": 4,
 "nbformat_minor": 5
}
