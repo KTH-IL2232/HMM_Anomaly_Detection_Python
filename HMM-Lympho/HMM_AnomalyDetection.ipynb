{
 "cells": [
  {
   "cell_type": "code",
   "execution_count": 2,
   "id": "1757fe5d",
   "metadata": {
    "ExecuteTime": {
     "end_time": "2021-10-15T12:49:07.519254Z",
     "start_time": "2021-10-15T12:49:05.792726Z"
    }
   },
   "outputs": [],
   "source": [
    "import numpy as np\n",
    "import matplotlib.pyplot as plt\n",
    "import scipy.io as sio\n",
    "\n",
    "from hmmlearn import hmm\n",
    "from sklearn.model_selection import train_test_split\n",
    "from sklearn import preprocessing\n",
    "\n",
    "np.random.seed(42)"
   ]
  },
  {
   "cell_type": "code",
   "execution_count": 5,
   "id": "12c7fe23",
   "metadata": {
    "ExecuteTime": {
     "end_time": "2021-10-15T12:49:58.743665Z",
     "start_time": "2021-10-15T12:49:58.717686Z"
    },
    "scrolled": true
   },
   "outputs": [
    {
     "name": "stdout",
     "output_type": "stream",
     "text": [
      "<class 'numpy.ndarray'>\n"
     ]
    }
   ],
   "source": [
    "# load dataset\n",
    "#dataset = sio.loadmat('/Users/yang/Desktop/IL2232/MyCode/PythonVersionHMM/dataset/lympho.mat')\n",
    "dataset = sio.loadmat('./dataset/lympho.mat')\n",
    "\n",
    "# first 6 data are outliers => extract them\n",
    "n_anomaly = 6\n",
    "lengthX = len(dataset['X'])\n",
    "lengthY = len(dataset['y'])\n",
    "outlierX = dataset['X'][:n_anomaly]\n",
    "outlierY = dataset['y'][:n_anomaly] # all ones\n",
    "nomialX = dataset['X'][n_anomaly:lengthX]\n",
    "nomialY = dataset['y'][n_anomaly:lengthY]\n",
    "# train test split\n",
    "X_train, X_test, y_train, y_test = train_test_split(\n",
    "    nomialX, nomialY, test_size = 0.3)\n",
    "X_test_anomaly = np.concatenate((outlierX, X_test), axis = 0)\n",
    "y_test_anomaly = np.concatenate((outlierY, y_test), axis = 0)\n",
    "\n",
    "# concatenate the data into sequences used for fit and predict\n",
    "X_train_arr = X_train[0]\n",
    "X_test_anomaly_arr = X_test_anomaly[0]\n",
    "X_test_arr = X_test[0]\n",
    "X_train_len = [len(X_train[0])]\n",
    "X_test_len = [len(X_test[0])]\n",
    "X_test_anomaly_len = [len(X_test[0])]\n",
    "\n",
    "for i in range(X_train.shape[0] - 1):\n",
    "    X_train_arr = np.concatenate([X_train_arr, X_train[i + 1]])\n",
    "    X_train_len = np.concatenate([X_train_len, [len(X_train[i + 1])]])\n",
    "\n",
    "for i in range(X_test_anomaly.shape[0] - 1):\n",
    "    X_test_anomaly_arr = np.concatenate([X_test_anomaly_arr, X_test_anomaly[i + 1]])\n",
    "    X_test_anomaly_len = np.concatenate([X_test_anomaly_len, [len(X_test_anomaly[i + 1])]])\n",
    "\n",
    "for i in range(X_test.shape[0] - 1):\n",
    "    X_test_arr = np.concatenate([X_test_arr, X_test[i + 1]])\n",
    "    X_test_len = np.concatenate([X_test_len, [len(X_test[i + 1])]])\n"
   ]
  },
  {
   "cell_type": "code",
   "execution_count": null,
   "id": "22f0d2bd",
   "metadata": {},
   "outputs": [],
   "source": [
    "my_file = open(\"./dataset/Test_anomaly_set_array.txt\", \"w\")\n",
    "for element in X_test_anomaly_arr:\n",
    "    my_file.write(str(int(element)) + '\\n')\n",
    "my_file.close()\n",
    "# Test_anomaly_set_array.txt is the file stores the data array\n",
    "\n",
    "my_file = open(\"./dataset/Test_anomaly_set_array_size.txt\", \"w\")\n",
    "my_file.write(str(len(X_test_anomaly_arr)))\n",
    "my_file.close()\n",
    "# Test_anomaly_set_array_size.txt is the file stores the size of data array\n",
    "\n",
    "my_file = open(\"./dataset/Test_anomaly_set_length.txt\", \"w\")\n",
    "for element in X_test_anomaly_len:\n",
    "    my_file.write(str(int(element)) + '\\n')\n",
    "my_file.close()\n",
    "# Test_anomaly_set_length.txt is the file stores the length array (length of each samples)\n",
    "\n",
    "my_file = open(\"./dataset/Test_anomaly_set_samples.txt\", \"w\")\n",
    "my_file.write(str(len(X_test_anomaly_len)))\n",
    "my_file.close()\n",
    "# Test_anomaly_set_samples.txt is the file stores the number of samples\n",
    "\n",
    "my_file = open(\"./dataset/Test_anomaly_set_label.txt\", \"w\")\n",
    "for element in y_test_anomaly:\n",
    "    my_file.write(str(int(element)) + '\\n')\n",
    "my_file.close()\n",
    "# Test_anomaly_set_label.txt is the file stores the labels of samples"
   ]
  },
  {
   "cell_type": "code",
   "execution_count": 4,
   "id": "34bfee6e",
   "metadata": {},
   "outputs": [],
   "source": [
    "# initialize the model\n",
    "n_components = 30\n",
    "n_features = 8\n",
    "model = hmm.MultinomialHMM(n_components = n_components)\n",
    "\n",
    "# initialize number of features V\n",
    "model.n_features = n_features\n",
    "\n",
    "# initialize the starte probability matrix pi\n",
    "# always start from state 0\n",
    "# model.startprob_ = np.concatenate(\n",
    "#   [[1.], np.zeros(n_components - 1)])\n",
    "# model.startprob_ = np.random.dirichlet(np.ones(n_components))\n",
    "\n",
    "# initialize the transission probability matrix\n",
    "# for i in range(n_components):\n",
    "#    transmat[i] = np.random.dirichlet(np.ones(n_components))\n",
    "#    emissionprob[i] = np.random.dirichlet(n_features)\n",
    "    \n",
    "# model.transmat_ = transmat\n",
    "# model.emissionprob_ = emissionprob"
   ]
  },
  {
   "cell_type": "code",
   "execution_count": 5,
   "id": "f846ec71",
   "metadata": {},
   "outputs": [
    {
     "data": {
      "text/plain": [
       "LabelEncoder()"
      ]
     },
     "execution_count": 5,
     "metadata": {},
     "output_type": "execute_result"
    }
   ],
   "source": [
    "# label preprocessing\n",
    "le = preprocessing.LabelEncoder()\n",
    "le.fit([1., 2., 3., 4., 5., 6., 7., 8.])"
   ]
  },
  {
   "cell_type": "code",
   "execution_count": 6,
   "id": "0ed0294c",
   "metadata": {
    "scrolled": true
   },
   "outputs": [
    {
     "data": {
      "text/plain": [
       "MultinomialHMM(n_components=30,\n",
       "               random_state=RandomState(MT19937) at 0x7FEB992C5A40)"
      ]
     },
     "execution_count": 6,
     "metadata": {},
     "output_type": "execute_result"
    }
   ],
   "source": [
    "# train the model\n",
    "data = X_train_arr\n",
    "data = le.transform(data)\n",
    "model.fit(data.reshape(-1, 1), X_train_len)"
   ]
  },
  {
   "cell_type": "code",
   "execution_count": 10,
   "id": "f077073a",
   "metadata": {},
   "outputs": [
    {
     "data": {
      "text/plain": [
       "-962.4703294481463"
      ]
     },
     "execution_count": 10,
     "metadata": {},
     "output_type": "execute_result"
    }
   ],
   "source": [
    "# score the model\n",
    "data = X_test_arr\n",
    "data = le.transform(data)\n",
    "model.score(data.reshape(-1, 1), X_test_len)"
   ]
  },
  {
   "cell_type": "code",
   "execution_count": 8,
   "id": "4e2b723a",
   "metadata": {
    "scrolled": true
   },
   "outputs": [
    {
     "data": {
      "image/png": "[encoded data removed]",
      "text/plain": [
       "<Figure size 432x288 with 1 Axes>"
      ]
     },
     "metadata": {
      "needs_background": "light"
     },
     "output_type": "display_data"
    },
    {
     "name": "stdout",
     "output_type": "stream",
     "text": [
      "[23 27 29 23 21  1  2 12  9  0 28 13  1 20  0 26 25 16]\n"
     ]
    }
   ],
   "source": [
    "# Generate samples\n",
    "X, Z = model.sample(n_samples = 18, random_state = 13)\n",
    "\n",
    "# Plot the sampled data\n",
    "plt.plot(X[:, 0], \".-\", label=\"observations\", ms=6,\n",
    "         mfc=\"orange\", alpha=0.7)\n",
    "\n",
    "plt.show()\n",
    "\n",
    "print(Z)"
   ]
  },
  {
   "cell_type": "code",
   "execution_count": 26,
   "id": "4568ac7d",
   "metadata": {},
   "outputs": [
    {
     "name": "stdout",
     "output_type": "stream",
     "text": [
      "-20.51952043537592\n",
      "-18.292108515348\n",
      "-20.519603341861426\n",
      "-18.228023431915293\n",
      "-20.60238612541898\n",
      "-22.753387741565376\n",
      "-19.253206788210832\n",
      "-28.93455255685233\n",
      "-22.66102774063057\n",
      "-20.99813332687412\n",
      "-22.682694861695957\n",
      "-26.024586729164213\n",
      "-21.174849337369658\n",
      "-24.850375556230865\n",
      "-28.621963999488013\n",
      "-21.562285870660578\n",
      "-25.011763058677996\n",
      "-18.401982269326528\n",
      "-22.624076447224397\n",
      "-21.332046951910964\n",
      "-20.683025846208935\n",
      "-18.464517267055456\n",
      "-18.232511598816707\n",
      "-21.31815909318646\n",
      "-18.095840762719586\n",
      "-20.476870642360808\n",
      "-19.0164515772387\n",
      "-20.48288271791866\n",
      "-25.57642007600746\n",
      "-20.477200183965977\n",
      "-21.480761695287736\n",
      "-31.34248395246405\n",
      "-24.1921813487588\n",
      "-22.09967224923515\n",
      "-25.3858022877548\n",
      "-19.66852081821912\n",
      "-20.078423544673257\n",
      "-19.390527818026108\n",
      "-20.603063506538444\n",
      "-22.665253405653985\n",
      "-26.62973509285614\n",
      "-22.510744066409597\n",
      "-26.302422886406504\n",
      "---------------\n",
      "-14.816065973906362\n",
      "-18.04803794697947\n",
      "-25.432017826837374\n",
      "-28.859909466524424\n",
      "-27.001119347332164\n",
      "-29.003160650614078\n"
     ]
    }
   ],
   "source": [
    "# peek at the test set\n",
    "for i in range(len(X_test)):\n",
    "    data = X_test[i]\n",
    "    data = le.transform(data)\n",
    "    print(model.score(data.reshape(-1, 1)))\n",
    "print(\"---------------\")\n",
    "for i in range(n_anomaly):\n",
    "    data = X_test_anomaly[i]\n",
    "    data = le.transform(data)\n",
    "    print(model.score(data.reshape(-1, 1)))"
   ]
  },
  {
   "cell_type": "code",
   "execution_count": 37,
   "id": "a71434aa",
   "metadata": {
    "scrolled": false
   },
   "outputs": [
    {
     "name": "stdout",
     "output_type": "stream",
     "text": [
      "TP = 4 TN = 34 FP = 9 FN = 2\n",
      "Precision = 31% Recall = 67% Fscore = 42%\n"
     ]
    }
   ],
   "source": [
    "# do anomaly detection and obtain precision, recall and F-score\n",
    "TP = 0\n",
    "TN = 0\n",
    "FP = 0\n",
    "FN = 0\n",
    "for i in range(len(X_test_anomaly)):\n",
    "    data = X_test_anomaly[i]\n",
    "    data = le.transform(data)\n",
    "    if(model.score(data.reshape(-1, 1)) < -25.):\n",
    "        positive = 1\n",
    "    else:\n",
    "        positive = 0\n",
    "    if(positive):\n",
    "        if(y_test_anomaly[i] == 1):\n",
    "            TP += 1\n",
    "        else:\n",
    "            FP += 1\n",
    "    else:\n",
    "        if(y_test_anomaly[i] == 0):\n",
    "            TN += 1\n",
    "        else:\n",
    "            FN += 1\n",
    "print(\"TP =\", TP, \"TN =\", TN, \"FP =\", FP, \"FN =\", FN )\n",
    "Precision = \"{:.0%}\".format(TP / (TP + FP))\n",
    "Recall = \"{:.0%}\".format(TP / (TP + FN))\n",
    "Fscore = \"{:.0%}\".format(2 * TP / (2 * TP + FP + FN))\n",
    "print(\"Precision =\", Precision, \"Recall =\", Recall, \"Fscore =\", Fscore)"
   ]
  },
  {
   "cell_type": "code",
   "execution_count": 41,
   "id": "66a40b97",
   "metadata": {},
   "outputs": [],
   "source": [
    "# save the model to file\n",
    "import pickle\n",
    "with open(\"HMMModel.pkl\", \"wb\") as file: pickle.dump(model, file)"
   ]
  },
  {
   "cell_type": "code",
   "execution_count": 42,
   "id": "dc71e4f3",
   "metadata": {},
   "outputs": [],
   "source": [
    "# load the model from file\n",
    "import pickle\n",
    "with open(\"HMMModel.pkl\", \"rb\") as file: pickle.load(file)"
   ]
  },
  {
   "cell_type": "code",
   "execution_count": 66,
   "id": "dd5ded8d",
   "metadata": {},
   "outputs": [],
   "source": [
    "# store the model parameters\n",
    "my_file = open(\"./Model_Parameters/N_Features.txt\", \"w\")\n",
    "my_file.write(str(model.n_features))\n",
    "my_file.close()\n",
    "\n",
    "my_file = open(\"./Model_Parameters/N_Components.txt\", \"w\")\n",
    "my_file.write(str(model.n_components))\n",
    "my_file.close()\n",
    "\n",
    "my_file = open(\"./Model_Parameters/Initial_Probability_Matrix.txt\", \"w\")\n",
    "np.savetxt(my_file, model.startprob_)\n",
    "my_file.close()\n",
    "\n",
    "my_file = open(\"./Model_Parameters/Transition_Probability_Matrix.txt\", \"w\")\n",
    "for row in model.transmat_:\n",
    "    np.savetxt(my_file, row)\n",
    "my_file.close()\n",
    "\n",
    "my_file = open(\"./Model_Parameters/Emission_Probability_Matrix.txt\", \"w\")\n",
    "for row in model.emissionprob_:\n",
    "    np.savetxt(my_file, row)\n",
    "my_file.close()"
   ]
  },
  {
   "cell_type": "code",
   "execution_count": null,
   "id": "a4510cd9",
   "metadata": {},
   "outputs": [],
   "source": []
  },
  {
   "cell_type": "code",
   "execution_count": null,
   "id": "337ae472",
   "metadata": {},
   "outputs": [],
   "source": []
  },
  {
   "cell_type": "code",
   "execution_count": null,
   "id": "85f5a027",
   "metadata": {},
   "outputs": [],
   "source": []
  }
 ],
 "metadata": {
  "kernelspec": {
   "display_name": "Python 3",
   "language": "python",
   "name": "python3"
  },
  "language_info": {
   "codemirror_mode": {
    "name": "ipython",
    "version": 3
   },
   "file_extension": ".py",
   "mimetype": "text/x-python",
   "name": "python",
   "nbconvert_exporter": "python",
   "pygments_lexer": "ipython3",
   "version": "3.8.8"
  }
 },
 "nbformat": 4,
 "nbformat_minor": 5
}
