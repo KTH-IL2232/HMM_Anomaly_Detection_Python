{
 "cells": [
  {
   "cell_type": "code",
   "execution_count": 1,
   "metadata": {
    "ExecuteTime": {
     "end_time": "2021-10-22T22:53:33.820667Z",
     "start_time": "2021-10-22T22:53:32.994687Z"
    }
   },
   "outputs": [],
   "source": [
    "import numpy as np\n",
    "import matplotlib.pyplot as plt\n",
    "import scipy.io as sio\n",
    "\n",
    "from sklearn.model_selection import train_test_split\n",
    "\n",
    "\n",
    "from hmmlearn import hmm\n",
    "\n",
    "np.random.seed(46)"
   ]
  },
  {
   "cell_type": "code",
   "execution_count": 2,
   "metadata": {
    "ExecuteTime": {
     "end_time": "2021-10-22T22:53:35.180520Z",
     "start_time": "2021-10-22T22:53:33.822664Z"
    }
   },
   "outputs": [],
   "source": [
    "#Read EEG dataset\n",
    "from os import listdir\n",
    "# Z: normal but with eyes open\n",
    "datapath_Z = 'dataset/EEG/Z' \n",
    "# O: normal but with eyes closed\n",
    "datapath_O = 'dataset/EEG/O'\n",
    "# S: ictal state and contains seizure activities\n",
    "datapath_S = 'dataset/EEG/S'\n",
    "# N: hippocampal formation of the opposite brain hemisphere\n",
    "datapath_N = 'dataset/EEG/N'\n",
    "# F: epileptogenic zone\n",
    "datapath_F = 'dataset/EEG/F'\n",
    "\n",
    "files_Z = [f for f in listdir(datapath_Z)]\n",
    "files_O = [f for f in listdir(datapath_O)]\n",
    "files_S = [f for f in listdir(datapath_S)]\n",
    "files_N = [f for f in listdir(datapath_N)]\n",
    "files_F = [f for f in listdir(datapath_F)]\n",
    "\n",
    "Z_train, Z_test = train_test_split(\n",
    "    files_Z, test_size = 0.3)\n",
    "\n",
    "S_train, S_test = train_test_split(\n",
    "    files_S, test_size = 0.3)\n",
    "\n",
    "data_Z_train = np.loadtxt(datapath_Z + '/' + Z_train[0])\n",
    "data_Z_train_len = [len(data_Z_train)]\n",
    "for file in Z_train:\n",
    "    data_file = np.loadtxt(datapath_Z + '/' + file)\n",
    "    data_Z_train = np.concatenate([data_Z_train, data_file])\n",
    "    data_Z_train_len.append(len(data_file))\n",
    "\n",
    "data_Z_test = np.loadtxt(datapath_Z + '/' + Z_test[0])\n",
    "data_Z_test_len = [len(data_Z_test)]\n",
    "for file in Z_test:\n",
    "    data_file = np.loadtxt(datapath_Z + '/' + file)\n",
    "    data_Z_test = np.concatenate([data_Z_test, data_file])\n",
    "    data_Z_test_len.append(len(data_file))\n",
    "    \n",
    "data_S_test = np.loadtxt(datapath_S + '/' + S_test[0])\n",
    "data_S_test_len = [len(data_S_test)]\n",
    "for file in S_test:\n",
    "    data_file = np.loadtxt(datapath_S + '/' + file)\n",
    "    data_S_test = np.concatenate([data_S_test, data_file])\n",
    "    data_S_test_len.append(len(data_file))\n",
    "\n",
    "#test_data = np.concatenate([data_Z_test, data_S_test])\n",
    "#test_data_len = np.concatenate([data_Z_test_len, data_S_test_len])"
   ]
  },
  {
   "cell_type": "code",
   "execution_count": 3,
   "metadata": {
    "ExecuteTime": {
     "end_time": "2021-10-22T22:53:52.978235Z",
     "start_time": "2021-10-22T22:53:35.182519Z"
    }
   },
   "outputs": [
    {
     "data": {
      "text/plain": [
       "GMMHMM(algorithm='viterbi', covariance_type='diag',\n",
       "       covars_prior=array([[[-1.5],\n",
       "        [-1.5],\n",
       "        [-1.5],\n",
       "        [-1.5],\n",
       "        [-1.5],\n",
       "        [-1.5],\n",
       "        [-1.5],\n",
       "        [-1.5],\n",
       "        [-1.5],\n",
       "        [-1.5]],\n",
       "\n",
       "       [[-1.5],\n",
       "        [-1.5],\n",
       "        [-1.5],\n",
       "        [-1.5],\n",
       "        [-1.5],\n",
       "        [-1.5],\n",
       "        [-1.5],\n",
       "        [-1.5],\n",
       "        [-1.5],\n",
       "        [-1.5]],\n",
       "\n",
       "       [[-1.5],\n",
       "        [-1.5],\n",
       "        [-1.5],\n",
       "        [-1.5],\n",
       "        [-1.5],\n",
       "        [-1.5],\n",
       "        [-1.5],\n",
       "        [-1.5],\n",
       "        [-1.5],\n",
       "        [-1.5]],\n",
       "\n",
       "       [[-1.5],\n",
       "        [-1.5],\n",
       "        [-1.5],\n",
       "        [-1.5],\n",
       "        [-1.5],\n",
       "        [-1.5],\n",
       "        [-1.5],\n",
       "        [-1.5],\n",
       "        [-1.5],...\n",
       "       [0., 0., 0., 0., 0., 0., 0., 0., 0., 0.],\n",
       "       [0., 0., 0., 0., 0., 0., 0., 0., 0., 0.]]),\n",
       "       min_covar=0.001, n_components=4, n_iter=10, n_mix=10, params='stmcw',\n",
       "       random_state=None, startprob_prior=1.0, tol=0.01, transmat_prior=1.0,\n",
       "       verbose=False,\n",
       "       weights_prior=array([[1., 1., 1., 1., 1., 1., 1., 1., 1., 1.],\n",
       "       [1., 1., 1., 1., 1., 1., 1., 1., 1., 1.],\n",
       "       [1., 1., 1., 1., 1., 1., 1., 1., 1., 1.],\n",
       "       [1., 1., 1., 1., 1., 1., 1., 1., 1., 1.]]))"
      ]
     },
     "execution_count": 3,
     "metadata": {},
     "output_type": "execute_result"
    }
   ],
   "source": [
    "#train hmm for EEG dataset \n",
    "EEG_HMM = hmm.GMMHMM(n_components=4, n_mix=10, covariance_type='diag')\n",
    "EEG_HMM.fit(data_Z_train.reshape(-1,1), lengths = data_Z_train_len)"
   ]
  },
  {
   "cell_type": "code",
   "execution_count": 4,
   "metadata": {
    "ExecuteTime": {
     "end_time": "2021-10-22T22:53:53.358245Z",
     "start_time": "2021-10-22T22:53:52.980221Z"
    }
   },
   "outputs": [],
   "source": [
    "score_Z = []\n",
    "score_S = []\n",
    "for i in range(len(Z_test)):\n",
    "    data = data_Z_test[i*data_Z_test_len[i]:(i + 1)*data_Z_test_len[i]]\n",
    "    score_Z.append(EEG_HMM.score(data.reshape(-1, 1)))\n",
    "    # print(EGG_HMM.score(data.reshape(-1, 1)))\n",
    "#print(\"---------------\")\n",
    "for i in range(len(S_test)):\n",
    "    data = data_S_test[i*data_S_test_len[i]:(i + 1)*data_S_test_len[i]]\n",
    "    score_S.append(EEG_HMM.score(data.reshape(-1, 1)))\n",
    "    # print(EGG_HMM.score(data.reshape(-1, 1)))"
   ]
  },
  {
   "cell_type": "code",
   "execution_count": 5,
   "metadata": {
    "ExecuteTime": {
     "end_time": "2021-10-22T22:53:53.486173Z",
     "start_time": "2021-10-22T22:53:53.360225Z"
    }
   },
   "outputs": [
    {
     "data": {
      "text/plain": [
       "<function matplotlib.pyplot.show(*args, **kw)>"
      ]
     },
     "execution_count": 5,
     "metadata": {},
     "output_type": "execute_result"
    },
    {
     "data": {
      "image/png": "[encoded data removed]",
      "text/plain": [
       "<Figure size 432x288 with 1 Axes>"
      ]
     },
     "metadata": {
      "needs_background": "light"
     },
     "output_type": "display_data"
    }
   ],
   "source": [
    "plt.plot(score_Z[:], \".-\", label=\"dataset Z\", color = 'r')\n",
    "plt.plot(score_S[:], \".-\", label=\"dataset S\", color = 'b')\n",
    "plt.xlabel(\"sample\")\n",
    "plt.ylabel(\"log likelihood\")\n",
    "#plt.yscale(\"symlog\")\n",
    "plt.title(\"P(O1,O2,...,OT | lambda) for all samples in fitted model, components = 4\")\n",
    "plt.legend()\n",
    "plt.show"
   ]
  },
  {
   "cell_type": "code",
   "execution_count": 6,
   "metadata": {
    "ExecuteTime": {
     "end_time": "2021-10-22T22:53:53.598189Z",
     "start_time": "2021-10-22T22:53:53.487181Z"
    }
   },
   "outputs": [],
   "source": [
    "# Read ECG dataset\n",
    "# take normal sinus rhythm (NSR) and Atrial fibrillation (AFib) as example\n",
    "from os import listdir\n",
    "datapath_NSR = 'dataset/MLII/1 NSR' \n",
    "datapath_AFib = 'dataset/MLII/4 AFIB'\n",
    "\n",
    "files_NSR = [f for f in listdir(datapath_NSR)]\n",
    "files_AFib = [f for f in listdir(datapath_AFib)]\n",
    "\n",
    "NSR_train, NSR_test = train_test_split(\n",
    "    files_NSR, test_size = 0.3)\n",
    "\n",
    "AFib_train, AFib_test = train_test_split(\n",
    "    files_AFib, test_size = 0.3)\n",
    "\n",
    "data_NSR_train = sio.loadmat(datapath_NSR + '/' + NSR_train[0])['val'][0]\n",
    "data_NSR_train_len = [len(data_NSR_train)]\n",
    "\n",
    "for file in NSR_train:\n",
    "    data_file = sio.loadmat(datapath_NSR + '/' + file)['val'][0]\n",
    "    data_NSR_train = np.concatenate([data_NSR_train, data_file])\n",
    "    data_NSR_train_len.append(len(data_file))\n",
    "\n",
    "data_NSR_test = sio.loadmat(datapath_NSR + '/' + NSR_test[0])['val'][0]\n",
    "data_NSR_test_len = [len(data_NSR_test)]\n",
    "for file in NSR_test:\n",
    "    data_file = sio.loadmat(datapath_NSR + '/' + file)['val'][0]\n",
    "    data_NSR_test = np.concatenate([data_NSR_test, data_file])\n",
    "    data_NSR_test_len.append(len(data_file))\n",
    "    \n",
    "data_AFib_test = sio.loadmat(datapath_AFib + '/' + AFib_test[0])['val'][0]\n",
    "data_AFib_test_len = [len(data_AFib_test)]\n",
    "for file in AFib_test:\n",
    "    data_file = sio.loadmat(datapath_AFib + '/' + file)['val'][0]\n",
    "    data_AFib_test = np.concatenate([data_AFib_test, data_file])\n",
    "    data_AFib_test_len.append(len(data_file))\n",
    "\n",
    "#test_data = np.concatenate([data_NSR_test, data_AFib_test])\n",
    "#test_data_len = np.concatenate([data_NSR_test_len, data_AFib_test_len])"
   ]
  },
  {
   "cell_type": "code",
   "execution_count": 7,
   "metadata": {
    "ExecuteTime": {
     "end_time": "2021-10-22T22:54:40.390357Z",
     "start_time": "2021-10-22T22:53:53.599190Z"
    },
    "scrolled": true
   },
   "outputs": [
    {
     "data": {
      "text/plain": [
       "GMMHMM(algorithm='viterbi', covariance_type='diag',\n",
       "       covars_prior=array([[[-1.5],\n",
       "        [-1.5],\n",
       "        [-1.5],\n",
       "        [-1.5],\n",
       "        [-1.5],\n",
       "        [-1.5],\n",
       "        [-1.5],\n",
       "        [-1.5],\n",
       "        [-1.5],\n",
       "        [-1.5]],\n",
       "\n",
       "       [[-1.5],\n",
       "        [-1.5],\n",
       "        [-1.5],\n",
       "        [-1.5],\n",
       "        [-1.5],\n",
       "        [-1.5],\n",
       "        [-1.5],\n",
       "        [-1.5],\n",
       "        [-1.5],\n",
       "        [-1.5]],\n",
       "\n",
       "       [[-1.5],\n",
       "        [-1.5],\n",
       "        [-1.5],\n",
       "        [-1.5],\n",
       "        [-1.5],\n",
       "        [-1.5],\n",
       "        [-1.5],\n",
       "        [-1.5],\n",
       "        [-1.5],\n",
       "        [-1.5]],\n",
       "\n",
       "       [[-1.5],\n",
       "        [-1.5],\n",
       "        [-1.5],\n",
       "        [-1.5],\n",
       "        [-1.5],\n",
       "        [-1.5],\n",
       "        [-1.5],\n",
       "        [-1.5],\n",
       "        [-1.5],...\n",
       "       [0., 0., 0., 0., 0., 0., 0., 0., 0., 0.],\n",
       "       [0., 0., 0., 0., 0., 0., 0., 0., 0., 0.]]),\n",
       "       min_covar=0.001, n_components=4, n_iter=10, n_mix=10, params='stmcw',\n",
       "       random_state=None, startprob_prior=1.0, tol=0.01, transmat_prior=1.0,\n",
       "       verbose=False,\n",
       "       weights_prior=array([[1., 1., 1., 1., 1., 1., 1., 1., 1., 1.],\n",
       "       [1., 1., 1., 1., 1., 1., 1., 1., 1., 1.],\n",
       "       [1., 1., 1., 1., 1., 1., 1., 1., 1., 1.],\n",
       "       [1., 1., 1., 1., 1., 1., 1., 1., 1., 1.]]))"
      ]
     },
     "execution_count": 7,
     "metadata": {},
     "output_type": "execute_result"
    }
   ],
   "source": [
    "#train hmm for ECG dataset \n",
    "ECG_HMM = hmm.GMMHMM(n_components=4, n_mix=10, covariance_type='diag')\n",
    "ECG_HMM.fit(data_NSR_train.reshape(-1,1), lengths = data_NSR_train_len)"
   ]
  },
  {
   "cell_type": "code",
   "execution_count": 8,
   "metadata": {
    "ExecuteTime": {
     "end_time": "2021-10-22T22:54:41.745349Z",
     "start_time": "2021-10-22T22:54:40.392352Z"
    }
   },
   "outputs": [
    {
     "name": "stdout",
     "output_type": "stream",
     "text": [
      "-15366.076203520595\n",
      "-15366.076203520595\n",
      "-15341.50836753884\n",
      "-19933.9685158668\n",
      "-18111.392473889904\n",
      "-15287.356539545399\n",
      "-16379.262207745052\n",
      "-21750.54954256891\n",
      "-22117.91252498259\n",
      "-17302.70757079341\n",
      "-17192.780506803814\n",
      "-16784.25289270533\n",
      "-15057.746653480912\n",
      "-15418.53474544674\n",
      "-14959.94645950697\n",
      "-14933.13273607629\n",
      "-17516.99590776892\n",
      "-16139.164651959296\n",
      "-15378.419228388524\n",
      "-15787.067151858862\n",
      "-16031.607483871929\n",
      "-16618.869694307636\n",
      "-15823.30656953377\n",
      "-17454.15490098235\n",
      "-16584.585730300652\n",
      "-15054.600143088262\n",
      "-18507.091630268427\n",
      "-15803.23489805669\n",
      "-15600.91148573684\n",
      "-15654.418368444201\n",
      "-16531.544126853874\n",
      "-15522.44499217253\n",
      "-17057.224839407067\n",
      "-15737.808053281191\n",
      "-16738.562131817358\n",
      "-16106.139650568803\n",
      "-16019.203199823165\n",
      "-16692.972655055702\n",
      "-15569.120915109499\n",
      "-15248.623453305723\n",
      "-17087.657503743067\n",
      "-17949.405768223824\n",
      "-16258.014751439738\n",
      "-16480.95568183064\n",
      "-15373.893715173986\n",
      "-16929.32314654216\n",
      "-17617.889313986463\n",
      "-16092.406299681916\n",
      "-16429.70075193447\n",
      "-17351.930451249493\n",
      "-17164.724467193795\n",
      "-18079.26131257654\n",
      "-15191.380474765867\n",
      "-18026.263757616583\n",
      "-15482.360389700556\n",
      "-17751.033996719718\n",
      "-15621.611129369661\n",
      "-15191.983822315959\n",
      "-18939.141044112435\n",
      "-14264.759670433035\n",
      "-16546.94371904186\n",
      "-18126.985451223223\n",
      "-16444.44564074577\n",
      "-17160.211007679187\n",
      "-16987.872581208976\n",
      "-15025.601593866148\n",
      "-15440.110107976965\n",
      "-21590.465427040188\n",
      "-15192.536502222067\n",
      "-17098.4787620163\n",
      "-19668.951053714707\n",
      "-15582.197049316797\n",
      "-14344.62638785973\n",
      "-17052.20819065271\n",
      "-19317.270951722865\n",
      "-16730.858184563105\n",
      "-15521.03108507252\n",
      "-18954.864805774538\n",
      "-16572.341623545282\n",
      "-16525.212424705787\n",
      "-17016.252977505857\n",
      "-18109.24756897516\n",
      "-16064.467881863453\n",
      "-16747.644650603914\n",
      "-17695.390677464977\n",
      "---------------\n",
      "-14608.090868006331\n",
      "-14608.090868006331\n",
      "-19099.06477682509\n",
      "-15619.071084882651\n",
      "-15537.750020485053\n",
      "-15748.084513034899\n",
      "-15041.182664873586\n",
      "-15369.322617879794\n",
      "-15530.653831592232\n",
      "-14856.967552783159\n",
      "-14693.47411029953\n",
      "-15841.821541595375\n",
      "-15342.485729704875\n",
      "-14820.432266582335\n",
      "-17047.888098583848\n",
      "-15897.877907356782\n",
      "-18048.750633306103\n",
      "-15270.451250005928\n",
      "-15005.68575857386\n",
      "-14460.026933114805\n",
      "-15035.621430335488\n",
      "-18218.496224858947\n",
      "-15236.879337391154\n",
      "-14657.681542609058\n",
      "-15869.917096370009\n",
      "-15445.26535597046\n",
      "-17351.179520256195\n",
      "-17745.5528541478\n",
      "-17052.956750131332\n",
      "-14794.170285042914\n",
      "-15441.221010143245\n",
      "-15925.366159416966\n",
      "-15762.137144339193\n",
      "-14627.211962485251\n",
      "-15431.85953891939\n",
      "-15766.916917311035\n",
      "-15712.639329043213\n",
      "-16229.302250398201\n",
      "-18983.233535894353\n",
      "-16634.79573022393\n",
      "-15719.708527490178\n"
     ]
    }
   ],
   "source": [
    "score_NSR = []\n",
    "score_AFib = []\n",
    "for i in range(len(NSR_test)):\n",
    "    data = data_NSR_test[i*data_NSR_test_len[i]:(i + 1)*data_NSR_test_len[i]]\n",
    "    score_NSR.append(ECG_HMM.score(data.reshape(-1, 1)))\n",
    "    print(ECG_HMM.score(data.reshape(-1, 1)))\n",
    "print(\"---------------\")\n",
    "for i in range(len(AFib_test)):\n",
    "    data = data_AFib_test[i*data_AFib_test_len[i]:(i + 1)*data_AFib_test_len[i]]\n",
    "    score_AFib.append(ECG_HMM.score(data.reshape(-1, 1)))\n",
    "    print(ECG_HMM.score(data.reshape(-1, 1)))"
   ]
  },
  {
   "cell_type": "code",
   "execution_count": 9,
   "metadata": {
    "ExecuteTime": {
     "end_time": "2021-10-22T22:54:41.873370Z",
     "start_time": "2021-10-22T22:54:41.746347Z"
    }
   },
   "outputs": [
    {
     "data": {
      "text/plain": [
       "<function matplotlib.pyplot.show(*args, **kw)>"
      ]
     },
     "execution_count": 9,
     "metadata": {},
     "output_type": "execute_result"
    },
    {
     "data": {
      "image/png": "[encoded data removed]",
      "text/plain": [
       "<Figure size 432x288 with 1 Axes>"
      ]
     },
     "metadata": {
      "needs_background": "light"
     },
     "output_type": "display_data"
    }
   ],
   "source": [
    "plt.plot(score_NSR[:], \".-\", label=\"dataset NSR\", color = 'r')\n",
    "plt.plot(score_AFib[:], \".-\", label=\"dataset AFib\", color = 'b')\n",
    "plt.xlabel(\"sample\")\n",
    "plt.ylabel(\"log likelihood\")\n",
    "#plt.yscale(\"symlog\")\n",
    "plt.title(\"P(O1,O2,...,OT | lambda) for all samples in fitted model, components = 3\")\n",
    "plt.legend()\n",
    "plt.show"
   ]
  },
  {
   "cell_type": "code",
   "execution_count": null,
   "metadata": {},
   "outputs": [],
   "source": []
  }
 ],
 "metadata": {
  "kernelspec": {
   "display_name": "Python 3",
   "language": "python",
   "name": "python3"
  },
  "language_info": {
   "codemirror_mode": {
    "name": "ipython",
    "version": 3
   },
   "file_extension": ".py",
   "mimetype": "text/x-python",
   "name": "python",
   "nbconvert_exporter": "python",
   "pygments_lexer": "ipython3",
   "version": "3.7.6"
  }
 },
 "nbformat": 4,
 "nbformat_minor": 4
}
