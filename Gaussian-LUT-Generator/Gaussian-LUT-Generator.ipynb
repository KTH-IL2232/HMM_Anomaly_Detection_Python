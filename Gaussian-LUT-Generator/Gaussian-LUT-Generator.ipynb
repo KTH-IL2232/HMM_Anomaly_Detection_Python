{
 "cells": [
  {
   "cell_type": "code",
   "execution_count": 1,
   "metadata": {
    "ExecuteTime": {
     "end_time": "2022-01-09T14:23:50.672276Z",
     "start_time": "2022-01-09T14:23:50.650272Z"
    }
   },
   "outputs": [],
   "source": [
    "import warnings\n",
    "def Dec2bin (num_decimal, width, frac, signedness = \"unsigned\"):\n",
    "    \"\"\"\n",
    "    This function converts decimal to fixed point binaries, returns a string\n",
    "\n",
    "    Parameters\n",
    "    ----------\n",
    "    num_decimal : float\n",
    "        input floating point number.\n",
    "    width : int\n",
    "        Bit width of the output\n",
    "    frac : int\n",
    "        bit width of the fraction part. (number of bits for mantissa)\n",
    "    signedness : string, optional\n",
    "        The default is \"signed\". for unsigned convert, use \"unsigned\"\n",
    "\n",
    "    Returns\n",
    "    -------\n",
    "    string. string for binary representation\n",
    "\n",
    "    \"\"\"\n",
    "    num_int_part = int(num_decimal * (2 ** frac))\n",
    "    if signedness == \"signed\":\n",
    "        if num_int_part < 0:\n",
    "            if (2 ** (width-1) + num_int_part) < 0:\n",
    "                warnings.warn(\"Overflow may occur\")\n",
    "            num_string = f'{(2**width + num_int_part):0{width}b}'\n",
    "        else:\n",
    "            num_string = f'{num_int_part:0{width}b}'\n",
    "            if (2 ** (width - 1) - num_int_part) <= 0:\n",
    "                warnings.warn(\"Overflow may occur\")\n",
    "    elif signedness == \"unsigned\":\n",
    "        num_string = f'{num_int_part:0{width}b}'\n",
    "        if len(num_string) > width:\n",
    "            warnings.warn(\"Overflow may occur\")\n",
    "\n",
    "    else:\n",
    "        warnings.warn(\"Signedness should be signed or unsigned\")\n",
    "        \n",
    "    return num_string\n",
    "\n",
    "def Dec2hex (num_decimal, width, frac, signedness = \"unsigned\"):\n",
    "    \"\"\"\n",
    "    This function converts decimal to fixed point hexadecimals, returns a string\n",
    "\n",
    "    Parameters\n",
    "    ----------\n",
    "    num_decimal : float\n",
    "        input floating point number.\n",
    "    width : int\n",
    "        Bit width of the output\n",
    "    frac : int\n",
    "        bit width of the fraction part. (number of bits for mantissa)\n",
    "    signedness : string, optional\n",
    "        The default is \"signed\". for unsigned convert, use \"unsigned\"\n",
    "\n",
    "    Returns\n",
    "    -------\n",
    "    string. string for hexadecimals representation\n",
    "\n",
    "    \"\"\"\n",
    "    num_int_part = int(num_decimal * (2 ** frac))\n",
    "    if signedness == \"signed\":\n",
    "        if num_int_part < 0:\n",
    "            if (2 ** (width-1) + num_int_part) < 0:\n",
    "                warnings.warn(\"Overflow may occur\")\n",
    "            num_string = f'{(2**width + num_int_part):0{width}b}'\n",
    "        else:\n",
    "            num_string = f'{num_int_part:0{width}b}'\n",
    "            if (2 ** (width - 1) - num_int_part) <= 0:\n",
    "                warnings.warn(\"Overflow may occur\")\n",
    "    elif signedness == \"unsigned\":\n",
    "        num_string = f'{num_int_part:0{width}b}'\n",
    "        if len(num_string) > width:\n",
    "            warnings.warn(\"Overflow may occur\")\n",
    "\n",
    "    else:\n",
    "        warnings.warn(\"Signedness should be signed or unsigned\")\n",
    "        \n",
    "    return hex(int(num_string, 2))\n",
    "\n",
    "def Bin2dec (num_binary, frac, signedness = \"unsigned\"):\n",
    "    \"\"\"\n",
    "    Convert binary number to decimal number\n",
    "\n",
    "    Parameters\n",
    "    ----------\n",
    "    num_binary : string or int\n",
    "        The input binary number value\n",
    "    frac : int\n",
    "        bit width of the fraction part. (number of bits for mantissa)\n",
    "    signedness : string, optional\n",
    "        The default is \"signed\". for unsigned convert, use \"unsigned\"\n",
    "\n",
    "    Returns\n",
    "    -------\n",
    "    float\n",
    "        The decimal value of the input\n",
    "\n",
    "    \"\"\"\n",
    "    num_binary = str(num_binary)\n",
    "    if signedness == \"unsigned\":\n",
    "        num_dec = int(num_binary, 2)\n",
    "    elif signedness == \"signed\":\n",
    "        if num_binary[0] == '1':\n",
    "            num_dec_positive = int(num_binary, 2)\n",
    "            num_dec = num_dec_positive - (2 ** (len(num_binary)*4))\n",
    "        else:\n",
    "            num_dec = int(num_binary, 2)\n",
    "    return num_dec/(2 ** frac)\n",
    "\n",
    "def Hex2dec (num_hex, frac, signedness = \"unsigned\"):\n",
    "    \"\"\"\n",
    "    Convert hexadecimal number to decimal number\n",
    "\n",
    "    Parameters\n",
    "    ----------\n",
    "    num_binary : string\n",
    "        The input hexadecimal number value\n",
    "    frac : int\n",
    "        bit width of the fraction part. (number of bits for mantissa)\n",
    "    signedness : string, optional\n",
    "        The default is \"signed\". for unsigned convert, use \"unsigned\"\n",
    "\n",
    "    Returns\n",
    "    -------\n",
    "    float\n",
    "        The decimal value of the input\n",
    "\n",
    "    \"\"\"\n",
    "    if signedness == \"unsigned\":\n",
    "        num_dec = int(num_hex, 16)\n",
    "    elif signedness == \"signed\":\n",
    "        if num_hex[0] in ['8', '9', 'a', 'b', 'c', 'd', 'e', 'f', 'A', 'B', 'C', 'D', 'E', 'F']:\n",
    "            num_dec_positive = int(num_hex, 16)\n",
    "            num_dec = num_dec_positive - (2 ** (len(num_hex)*4))\n",
    "        else:\n",
    "            num_dec = int(num_hex, 16)\n",
    "    return num_dec/(2 ** frac)"
   ]
  },
  {
   "cell_type": "code",
   "execution_count": 2,
   "metadata": {
    "ExecuteTime": {
     "end_time": "2022-01-09T14:23:51.574202Z",
     "start_time": "2022-01-09T14:23:50.674277Z"
    }
   },
   "outputs": [],
   "source": [
    "import numpy as np\n",
    "import matplotlib.pyplot as plt\n",
    "from scipy.stats import uniform\n",
    "from scipy.stats import norm\n",
    "from hmmlearn import hmm\n",
    "import math"
   ]
  },
  {
   "cell_type": "code",
   "execution_count": 3,
   "metadata": {
    "ExecuteTime": {
     "end_time": "2022-01-09T14:23:51.698192Z",
     "start_time": "2022-01-09T14:23:51.576189Z"
    }
   },
   "outputs": [
    {
     "data": {
      "image/png": "[encoded data removed]",
      "text/plain": [
       "<Figure size 432x288 with 1 Axes>"
      ]
     },
     "metadata": {
      "needs_background": "light"
     },
     "output_type": "display_data"
    }
   ],
   "source": [
    "x = np.linspace(norm.ppf(0.5),\n",
    "                 norm.ppf(0.99), 300)\n",
    "y = norm.pdf(x, 0, 1)\n",
    "plt.plot(x, y,\n",
    "        'r-', lw=5, alpha=0.6, label='norm pdf')\n",
    "plt.title(\"norm pdf\")\n",
    "plt.show()"
   ]
  },
  {
   "cell_type": "code",
   "execution_count": 4,
   "metadata": {
    "ExecuteTime": {
     "end_time": "2022-01-09T14:23:51.714182Z",
     "start_time": "2022-01-09T14:23:51.699172Z"
    }
   },
   "outputs": [],
   "source": [
    "xQuantized = [\"\"] * len(x)\n",
    "totalLen = 32\n",
    "fracLen = 29\n",
    "for i in range(len(x)):\n",
    "    xQuantized[i] = Dec2bin (x[i], 32, 29, signedness = \"unsigned\")\n",
    "yQuantized = [\"\"] * len(y)\n",
    "for i in range(len(y)):\n",
    "    yQuantized[i] = Dec2bin (y[i], 32, 29, signedness = \"unsigned\")"
   ]
  },
  {
   "cell_type": "code",
   "execution_count": 5,
   "metadata": {
    "ExecuteTime": {
     "end_time": "2022-01-09T14:23:51.808193Z",
     "start_time": "2022-01-09T14:23:51.716184Z"
    }
   },
   "outputs": [
    {
     "data": {
      "image/png": "[encoded data removed]",
      "text/plain": [
       "<Figure size 432x288 with 1 Axes>"
      ]
     },
     "metadata": {
      "needs_background": "light"
     },
     "output_type": "display_data"
    }
   ],
   "source": [
    "xDeQuantized = [1] * len(x)\n",
    "for i in range(len(x)):\n",
    "    xDeQuantized[i] = Bin2dec (xQuantized[i], 29, signedness = \"unsigned\")\n",
    "yDeQuantized = [1] * len(y)\n",
    "for i in range(len(y)):\n",
    "    yDeQuantized[i] = Bin2dec (yQuantized[i], 29, signedness = \"unsigned\")\n",
    "\n",
    "plt.plot(xDeQuantized, yDeQuantized,\n",
    "        'r-', lw=5, alpha=0.6, label='norm pdf')\n",
    "plt.title(\"quantized norm pdf\")\n",
    "plt.show()"
   ]
  },
  {
   "cell_type": "code",
   "execution_count": 6,
   "metadata": {
    "ExecuteTime": {
     "end_time": "2022-01-09T14:23:51.824192Z",
     "start_time": "2022-01-09T14:23:51.809184Z"
    }
   },
   "outputs": [],
   "source": [
    "myVhdHead = [\"Library IEEE;\",\n",
    "             \"Use IEEE.STD_LOGIC_1164.ALL;\",\n",
    "             \"USE IEEE.NUMERIC_STD.ALL;\",\n",
    "             \"USE IEEE.STD_LOGIC_UNSIGNED.ALL;\",\n",
    "             \"ENTITY GaussianLUT IS\",\n",
    "             \"    PORT (\",\n",
    "             \"        x_in : IN STD_LOGIC_VECTOR (31 DOWNTO 0);\",\n",
    "             \"        y_out : OUT STD_LOGIC_VECTOR (31 DOWNTO 0)\",\n",
    "             \"    );\",\n",
    "             \"END GaussianLUT;\",\n",
    "             \"ARCHITECTURE LUT of GaussianLUT is\",\n",
    "             \"BEGIN\",\n",
    "             \"    PROCESS (x_in) IS\",\n",
    "             \"    BEGIN\",\n",
    "             \"        CASE to_integer(unsigned(x_in)) IS\"\n",
    "            ]\n",
    "myVhdTail = [\"        WHEN others => y_out <= (others => '0');\",\n",
    "             \"        END CASE;\",\n",
    "             \"    END PROCESS;\",\n",
    "             \"END LUT;\"\n",
    "            ]\n",
    "\n",
    "myVhdBody = [\"\"] * len(x)\n",
    "for i in range(len(x) - 1):\n",
    "    myVhdBody[i] = ('        WHEN ' + str(int(Bin2dec(xQuantized[i], 0, \"unsigned\")))\n",
    "                    + \" to \" + str(int(Bin2dec(xQuantized[i + 1], 0, \"unsigned\") - 1))\n",
    "                    + ' => y_out <= \"' + yQuantized[i] + '\";')\n",
    "myVhdBody[len(x) - 1] = ('        WHEN ' + str(int(Bin2dec(xQuantized[len(x) - 1], 0, \"unsigned\")))\n",
    "                         + \" to \" + str(1300000000)\n",
    "                         + ' => y_out <= \"' + yQuantized[i] + '\";')\n",
    "    \n",
    "my_file = open(\"./LUT/GaussianLUT.txt\", \"w\")\n",
    "for row in myVhdHead:\n",
    "    my_file.write(row + '\\n')\n",
    "for row in myVhdBody:\n",
    "    my_file.write(row + '\\n')\n",
    "for row in myVhdTail:\n",
    "    my_file.write(row + '\\n')\n",
    "my_file.close()"
   ]
  },
  {
   "cell_type": "code",
   "execution_count": 7,
   "metadata": {
    "ExecuteTime": {
     "end_time": "2022-01-09T14:23:51.840184Z",
     "start_time": "2022-01-09T14:23:51.825186Z"
    }
   },
   "outputs": [
    {
     "name": "stdout",
     "output_type": "stream",
     "text": [
      "P(Ot) = 0x282b539\n",
      "0.75 = 0x18000000\n",
      "0.25 = 0x8000000\n",
      "3.00 = 0x60000000\n",
      "1.00 = 0x20000000\n",
      "2.50 = 0x50000000\n"
     ]
    }
   ],
   "source": [
    "print(\"P(Ot) = \" + Dec2hex(0.07845555444, 32, 29, \"unsigned\"))\n",
    "print(\"0.75 = \" + Dec2hex(0.75, 32, 29, \"unsigned\"))\n",
    "print(\"0.25 = \" + Dec2hex(0.25, 32, 29, \"unsigned\"))\n",
    "print(\"3.00 = \" + Dec2hex(3.00, 32, 29, \"unsigned\"))\n",
    "print(\"1.00 = \" + Dec2hex(1.00, 32, 29, \"unsigned\"))\n",
    "print(\"2.50 = \" + Dec2hex(2.50, 32, 29, \"unsigned\"))"
   ]
  },
  {
   "cell_type": "code",
   "execution_count": 8,
   "metadata": {
    "ExecuteTime": {
     "end_time": "2022-01-09T14:23:51.856202Z",
     "start_time": "2022-01-09T14:23:51.842186Z"
    }
   },
   "outputs": [
    {
     "name": "stdout",
     "output_type": "stream",
     "text": [
      "P(Ot) = 0.07845555444\n",
      "FPGA P(Ot) = 0.07667259126901627\n",
      "error = 0.0017829631709837396 = 2.27%\n"
     ]
    }
   ],
   "source": [
    "print(\"P(Ot) = \" + str(0.07845555444))\n",
    "print(\"FPGA P(Ot) = \" + str(Hex2dec(\"02741a14\", 29, \"unsigned\")))\n",
    "print(\"error = \" + str(0.07845555444 - Hex2dec(\"02741a14\", 29, \"unsigned\")) + ' = '\n",
    "      + \"{:.2%}\".format((0.07845555444 - Hex2dec(\"02741a14\", 29, \"unsigned\")) / 0.07845555444))"
   ]
  },
  {
   "cell_type": "code",
   "execution_count": 9,
   "metadata": {
    "ExecuteTime": {
     "end_time": "2022-01-09T14:23:51.872352Z",
     "start_time": "2022-01-09T14:23:51.858193Z"
    }
   },
   "outputs": [
    {
     "data": {
      "text/plain": [
       "'0x8'"
      ]
     },
     "execution_count": 9,
     "metadata": {},
     "output_type": "execute_result"
    }
   ],
   "source": [
    "Dec2hex(0.000000002061154, 64, 32, \"signed\")"
   ]
  },
  {
   "cell_type": "code",
   "execution_count": 10,
   "metadata": {
    "ExecuteTime": {
     "end_time": "2022-01-09T14:23:51.888301Z",
     "start_time": "2022-01-09T14:23:51.874291Z"
    }
   },
   "outputs": [
    {
     "data": {
      "text/plain": [
       "0.17578125"
      ]
     },
     "execution_count": 10,
     "metadata": {},
     "output_type": "execute_result"
    }
   ],
   "source": [
    "Hex2dec(\"05a00000\", 29, \"signed\")"
   ]
  },
  {
   "cell_type": "code",
   "execution_count": 11,
   "metadata": {
    "ExecuteTime": {
     "end_time": "2022-01-09T14:23:51.904293Z",
     "start_time": "2022-01-09T14:23:51.890292Z"
    }
   },
   "outputs": [],
   "source": [
    "import struct\n",
    "def Dec2float64 (num_decimal):\n",
    "    result = hex(struct.unpack('<Q', struct.pack('<d', num_decimal))[0])[2:]\n",
    "    if len(result) == 1:\n",
    "        result = 16 * result\n",
    "    return result\n",
    "def Float2dec64 (num_float):\n",
    "    #print(num_float)\n",
    "    return struct.unpack('!d', bytes.fromhex(num_float))[0]\n",
    "def Dec2float32 (num_decimal):\n",
    "    result =hex(struct.unpack('<I', struct.pack('<f', num_decimal))[0])[2:]\n",
    "    if len(result) == 1:\n",
    "        result = 8 * result\n",
    "    return result\n",
    "def Float2dec32 (num_float):\n",
    "    return struct.unpack('!f', bytes.fromhex(num_float))[0]"
   ]
  },
  {
   "cell_type": "code",
   "execution_count": 12,
   "metadata": {
    "ExecuteTime": {
     "end_time": "2022-01-09T14:23:51.920283Z",
     "start_time": "2022-01-09T14:23:51.906290Z"
    }
   },
   "outputs": [
    {
     "name": "stdout",
     "output_type": "stream",
     "text": [
      "P(Ot) = 3fb415a9c882649b\n",
      "0.75 = 3fe8000000000000\n",
      "0.25 = 3fd0000000000000\n",
      "3.00 = 4008000000000000\n",
      "1.00 = 3ff0000000000000\n",
      "2.50 = 4004000000000000\n"
     ]
    }
   ],
   "source": [
    "print(\"P(Ot) = \" + Dec2float64(0.07845555444))\n",
    "print(\"0.75 = \" + Dec2float64(0.75))\n",
    "print(\"0.25 = \" + Dec2float64(0.25))\n",
    "print(\"3.00 = \" + Dec2float64(3.00))\n",
    "print(\"1.00 = \" + Dec2float64(1.00))\n",
    "print(\"2.50 = \" + Dec2float64(2.50))"
   ]
  },
  {
   "cell_type": "code",
   "execution_count": 13,
   "metadata": {
    "ExecuteTime": {
     "end_time": "2022-01-09T14:23:51.936291Z",
     "start_time": "2022-01-09T14:23:51.921274Z"
    }
   },
   "outputs": [],
   "source": [
    "xQuantized = [\"\"] * len(x)\n",
    "for i in range(len(x)):\n",
    "    #xQuantized[i] = Dec2bin (x[i], 32, 29, signedness = \"unsigned\")\n",
    "    xQuantized[i] = Dec2float32(x[i])\n",
    "yQuantized = [\"\"] * len(y)\n",
    "for i in range(len(y)):\n",
    "    yQuantized[i] = Dec2float32(y[i])"
   ]
  },
  {
   "cell_type": "code",
   "execution_count": 14,
   "metadata": {
    "ExecuteTime": {
     "end_time": "2022-01-09T14:23:52.043534Z",
     "start_time": "2022-01-09T14:23:51.938530Z"
    }
   },
   "outputs": [
    {
     "data": {
      "image/png": "[encoded data removed]",
      "text/plain": [
       "<Figure size 432x288 with 1 Axes>"
      ]
     },
     "metadata": {
      "needs_background": "light"
     },
     "output_type": "display_data"
    }
   ],
   "source": [
    "\n",
    "xDeQuantized = [1] * len(x)\n",
    "for i in range(len(x)):\n",
    "    xDeQuantized[i] = Float2dec32 (xQuantized[i])\n",
    "yDeQuantized = [1] * len(y)\n",
    "for i in range(len(y)):\n",
    "    yDeQuantized[i] = Float2dec32 (yQuantized[i])\n",
    "\n",
    "plt.plot(xDeQuantized, yDeQuantized,\n",
    "        'r-', lw=5, alpha=0.6, label='norm pdf')\n",
    "plt.title(\"quantized norm pdf\")\n",
    "plt.show()"
   ]
  },
  {
   "cell_type": "code",
   "execution_count": null,
   "metadata": {
    "ExecuteTime": {
     "end_time": "2022-01-02T20:31:48.059835Z",
     "start_time": "2022-01-02T20:31:48.050392Z"
    }
   },
   "outputs": [],
   "source": []
  },
  {
   "cell_type": "code",
   "execution_count": 15,
   "metadata": {
    "ExecuteTime": {
     "end_time": "2022-01-09T14:23:52.059536Z",
     "start_time": "2022-01-09T14:23:52.044526Z"
    }
   },
   "outputs": [],
   "source": [
    "myVhdHead = [\"Library IEEE;\",\n",
    "             \"Use IEEE.STD_LOGIC_1164.ALL;\",\n",
    "             \"USE IEEE.NUMERIC_STD.ALL;\",\n",
    "             \"USE IEEE.STD_LOGIC_UNSIGNED.ALL;\",\n",
    "             \"library ieee_proposed;\",\n",
    "             \"use ieee_proposed.float_pkg.all;\",\n",
    "             \"ENTITY GaussianLUT IS\",\n",
    "             \"    PORT (\",\n",
    "             \"        x_in : IN numberType;\",\n",
    "             \"        y_out : OUT numberType\",\n",
    "             \"    );\",\n",
    "             \"END GaussianLUT;\",\n",
    "             \"ARCHITECTURE LUT of GaussianLUT is\",\n",
    "             \"BEGIN\",\n",
    "             \"    PROCESS (x_in) IS\",\n",
    "             \"    BEGIN\",\n",
    "             \"        CASE to_integer(unsigned(x_in)) IS\"\n",
    "            ]\n",
    "myVhdTail = [\"        WHEN others => y_out <= (others => '0');\",\n",
    "             \"        END CASE;\",\n",
    "             \"    END PROCESS;\",\n",
    "             \"END LUT;\"\n",
    "            ]\n",
    "\n",
    "myVhdBody = [\"\"] * len(x)\n",
    "for i in range(len(x) - 1):\n",
    "    myVhdBody[i] = ('        WHEN ' + str(int(Hex2dec(xQuantized[i], 0, \"unsigned\")))\n",
    "                    + \" to \" + str(int(Hex2dec(xQuantized[i + 1], 0, \"unsigned\") - 1))\n",
    "                    + ' => y_out <= x\"' + yQuantized[i] + '\";')\n",
    "myVhdBody[len(x) - 1] = ('        WHEN ' + str(int(Hex2dec(xQuantized[len(x) - 1], 0, \"unsigned\")))\n",
    "                         + \" to \" + str(int(Hex2dec(Dec2float32(2.421438694000244), 0, \"unsigned\")))\n",
    "                         + ' => y_out <= x\"' + yQuantized[i] + '\";')\n",
    "  \n",
    "my_file = open(\"./LUT/GaussianLUT.vhd\", \"w\")\n",
    "for row in myVhdHead:\n",
    "    my_file.write(row + '\\n')\n",
    "for row in myVhdBody:\n",
    "    my_file.write(row + '\\n')\n",
    "for row in myVhdTail:\n",
    "    my_file.write(row + '\\n')\n",
    "my_file.close()"
   ]
  },
  {
   "cell_type": "code",
   "execution_count": 16,
   "metadata": {
    "ExecuteTime": {
     "end_time": "2022-01-09T14:23:52.074526Z",
     "start_time": "2022-01-09T14:23:52.061537Z"
    }
   },
   "outputs": [
    {
     "name": "stdout",
     "output_type": "stream",
     "text": [
      "4.612635014000017e+18\n"
     ]
    }
   ],
   "source": [
    "print(Hex2dec(Dec2float64(2.421438694000244), 0, \"unsigned\"))"
   ]
  },
  {
   "cell_type": "code",
   "execution_count": null,
   "metadata": {},
   "outputs": [],
   "source": []
  }
 ],
 "metadata": {
  "kernelspec": {
   "display_name": "Python 3",
   "language": "python",
   "name": "python3"
  },
  "language_info": {
   "codemirror_mode": {
    "name": "ipython",
    "version": 3
   },
   "file_extension": ".py",
   "mimetype": "text/x-python",
   "name": "python",
   "nbconvert_exporter": "python",
   "pygments_lexer": "ipython3",
   "version": "3.7.6"
  }
 },
 "nbformat": 4,
 "nbformat_minor": 5
}
