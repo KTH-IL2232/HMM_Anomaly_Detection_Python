{
 "cells": [
  {
   "cell_type": "code",
   "execution_count": 2,
   "metadata": {
    "ExecuteTime": {
     "end_time": "2021-10-15T14:13:03.511955Z",
     "start_time": "2021-10-15T14:13:02.638318Z"
    }
   },
   "outputs": [],
   "source": [
    "import numpy as np\n",
    "import matplotlib.pyplot as plt\n",
    "import scipy.io as sio\n",
    "import random\n",
    "\n",
    "from hmmlearn import hmm\n",
    "from sklearn.model_selection import train_test_split\n",
    "from sklearn import preprocessing\n",
    "\n",
    "np.random.seed(42)"
   ]
  },
  {
   "cell_type": "code",
   "execution_count": 34,
   "metadata": {
    "ExecuteTime": {
     "end_time": "2021-10-15T19:22:30.421743Z",
     "start_time": "2021-10-15T19:22:30.311747Z"
    }
   },
   "outputs": [
    {
     "data": {
      "image/png": "[encoded data removed]",
      "text/plain": [
       "<Figure size 432x288 with 1 Axes>"
      ]
     },
     "metadata": {
      "needs_background": "light"
     },
     "output_type": "display_data"
    }
   ],
   "source": [
    "# generate dataset\n",
    "time_duration = 20     # The length of time sequence\n",
    "observation_states = 2 #number of observation states\n",
    "include_noise = 0\n",
    "sample_length = 200    # how many samples do we want\n",
    "num_anomaly = 40       # The number of anomaly samples we want\n",
    "\n",
    "\n",
    "\"\"\"This part is to generate a simple dataset, \n",
    "where normal behavial is we have a continuous wavelet with a certain length,\n",
    "while in anomaly cases the wavelet is not continuous\"\"\"\n",
    "y_label = [1] * num_anomaly + [0] * (sample_length - num_anomaly)\n",
    "#anomaly_label = random.sample(y_label,num_anomaly)\n",
    "wavelet_length = 3\n",
    "wavelet = list(map(lambda x: 1, [i for i in range(0,wavelet_length)]))\n",
    "#wavelet = list(map(lambda x: int(sin(x/10)), [i for i in range(0,wavelet_length)]))\n",
    "x_dataset = np.zeros((sample_length, 20),dtype='int32')\n",
    "for i in range(0, num_anomaly):\n",
    "    insert_num = random.randint(0,int(time_duration/wavelet_length))\n",
    "    insert_pos = random.sample(range(0,time_duration - wavelet_length),insert_num)\n",
    "    insert_len = np.random.randint(0, wavelet_length, size = insert_num)\n",
    "    sample = [0]*time_duration\n",
    "    for j in range(0, len(insert_pos)):\n",
    "        sample[insert_pos[j]:insert_pos[j] + insert_len[j]] = wavelet[0: insert_len[j]]\n",
    "    x_dataset[i] = sample\n",
    "for i in range(num_anomaly, sample_length):\n",
    "    insert_pos = random.randint(0,time_duration - wavelet_length)\n",
    "    sample = [0]*time_duration\n",
    "    sample[insert_pos: insert_pos + wavelet_length] = wavelet\n",
    "    x_dataset[i] = sample\n",
    "\n",
    "plt.plot(x_dataset[65], \".-\", label=\"observations\", ms=6, mfc=\"orange\", alpha=0.7)\n",
    "plt.show()\n",
    "\n",
    "dataset = {'x': x_dataset, 'y': y_label}"
   ]
  },
  {
   "cell_type": "code",
   "execution_count": 28,
   "metadata": {
    "ExecuteTime": {
     "end_time": "2021-10-15T18:53:36.539756Z",
     "start_time": "2021-10-15T18:53:36.511524Z"
    }
   },
   "outputs": [],
   "source": [
    "n_anomaly = 40\n",
    "lengthX = len(dataset['x'])\n",
    "lengthY = len(dataset['y'])\n",
    "outlierX = dataset['x'][:n_anomaly]\n",
    "outlierY = dataset['y'][:n_anomaly] # all ones\n",
    "nomialX = dataset['x'][n_anomaly:lengthX]\n",
    "nomialY = dataset['y'][n_anomaly:lengthY]\n",
    "X_train, X_test, y_train, y_test = train_test_split(\n",
    "    nomialX, nomialY, test_size = 0.3)\n",
    "X_test_anomaly = np.concatenate((outlierX, X_test), axis = 0)\n",
    "y_test_anomaly = np.concatenate((outlierY, y_test), axis = 0)\n",
    "\n",
    "# concatenate the data into sequences used for fit and predict\n",
    "X_train_arr = X_train[0]\n",
    "X_test_anomaly_arr = X_test_anomaly[0]\n",
    "X_test_arr = X_test[0]\n",
    "X_train_len = [len(X_train[0])]\n",
    "X_test_len = [len(X_test[0])]\n",
    "X_test_anomaly_len = [len(X_test[0])]\n",
    "\n",
    "for i in range(X_train.shape[0] - 1):\n",
    "    X_train_arr = np.concatenate([X_train_arr, X_train[i + 1]])\n",
    "    X_train_len = np.concatenate([X_train_len, [len(X_train[i + 1])]])\n",
    "\n",
    "for i in range(X_test_anomaly.shape[0] - 1):\n",
    "    X_test_anomaly_arr = np.concatenate([X_test_anomaly_arr, X_test_anomaly[i + 1]])\n",
    "    X_test_anomaly_len = np.concatenate([X_test_anomaly_len, [len(X_test_anomaly[i + 1])]])\n",
    "\n",
    "for i in range(X_test.shape[0] - 1):\n",
    "    X_test_arr = np.concatenate([X_test_arr, X_test[i + 1]])\n",
    "    X_test_len = np.concatenate([X_test_len, [len(X_test[i + 1])]])\n",
    "\n",
    "\n"
   ]
  },
  {
   "cell_type": "code",
   "execution_count": 38,
   "metadata": {
    "ExecuteTime": {
     "end_time": "2021-10-15T19:57:03.360539Z",
     "start_time": "2021-10-15T19:57:03.340547Z"
    }
   },
   "outputs": [],
   "source": [
    "my_file = open(\"./Generated_dataset/Test_anomaly_set_array.txt\", \"w\")\n",
    "for element in X_test_anomaly_arr:\n",
    "    my_file.write(str(int(element)) + '\\n')\n",
    "my_file.close()\n",
    "# Test_anomaly_set_array.txt is the file stores the data array\n",
    "\n",
    "my_file = open(\"./Generated_dataset/Test_anomaly_set_array_size.txt\", \"w\")\n",
    "my_file.write(str(len(X_test_anomaly_arr)))\n",
    "my_file.close()\n",
    "# Test_anomaly_set_array_size.txt is the file stores the size of data array\n",
    "\n",
    "my_file = open(\"./Generated_dataset/Test_anomaly_set_length.txt\", \"w\")\n",
    "for element in X_test_anomaly_len:\n",
    "    my_file.write(str(int(element)) + '\\n')\n",
    "my_file.close()\n",
    "# Test_anomaly_set_length.txt is the file stores the length array (length of each samples)\n",
    "\n",
    "my_file = open(\"./Generated_dataset/Test_anomaly_set_samples.txt\", \"w\")\n",
    "my_file.write(str(len(X_test_anomaly_len)))\n",
    "my_file.close()\n",
    "# Test_anomaly_set_samples.txt is the file stores the number of samples\n",
    "\n",
    "my_file = open(\"./Generated_dataset/Test_anomaly_set_label.txt\", \"w\")\n",
    "for element in y_test_anomaly:\n",
    "    my_file.write(str(int(element)) + '\\n')\n",
    "my_file.close()\n",
    "# Test_anomaly_set_label.txt is the file stores the labels of samples"
   ]
  },
  {
   "cell_type": "code",
   "execution_count": 35,
   "metadata": {
    "ExecuteTime": {
     "end_time": "2021-10-15T19:23:57.088701Z",
     "start_time": "2021-10-15T19:23:56.784708Z"
    }
   },
   "outputs": [
    {
     "data": {
      "text/plain": [
       "MultinomialHMM(algorithm='viterbi', init_params='ste', n_components=5,\n",
       "               n_iter=10, params='ste',\n",
       "               random_state=RandomState(MT19937) at 0x25FDB945E18,\n",
       "               startprob_prior=1.0, tol=0.01, transmat_prior=1.0,\n",
       "               verbose=False)"
      ]
     },
     "execution_count": 35,
     "metadata": {},
     "output_type": "execute_result"
    }
   ],
   "source": [
    "n_components = 5\n",
    "n_features = 2\n",
    "model = hmm.MultinomialHMM(n_components = n_components)\n",
    "\n",
    "# initialize number of features V\n",
    "model.n_features = n_features\n",
    "\n",
    "le = preprocessing.LabelEncoder()\n",
    "le.fit([0., 1.])\n",
    "\n",
    "# train the model\n",
    "data = X_train_arr\n",
    "data = le.transform(data)\n",
    "model.fit(data.reshape(-1, 1), X_train_len)"
   ]
  },
  {
   "cell_type": "code",
   "execution_count": 36,
   "metadata": {
    "ExecuteTime": {
     "end_time": "2021-10-15T19:24:01.735831Z",
     "start_time": "2021-10-15T19:24:01.660830Z"
    }
   },
   "outputs": [
    {
     "name": "stdout",
     "output_type": "stream",
     "text": [
      "-5.744400704182111\n",
      "-5.911227626458176\n",
      "-5.911286776175713\n",
      "-4.921131947024543\n",
      "-5.91120340136915\n",
      "-5.911286776175713\n",
      "-5.91120340136915\n",
      "-5.911233979570824\n",
      "-5.9112275925752495\n",
      "-5.911227342107696\n",
      "-4.921131947024543\n",
      "-5.891905863838136\n",
      "-5.911225018642304\n",
      "-4.921131947024543\n",
      "-5.91122769489003\n",
      "-5.909133013743883\n",
      "-4.921131947024543\n",
      "-5.911227342107696\n",
      "-5.911002289650574\n",
      "-5.91122769489003\n",
      "-5.911286776175713\n",
      "-5.916343858280099\n",
      "-5.91122769489003\n",
      "-5.911227342107696\n",
      "-5.744400704182111\n",
      "-5.911227342107696\n",
      "-5.911227626458176\n",
      "-5.9112275925752495\n",
      "-5.911225018642304\n",
      "-5.9112275925752495\n",
      "-5.916343858280099\n",
      "-5.911225018642304\n",
      "-5.744400704182111\n",
      "-5.909133013743883\n",
      "-5.891905863838136\n",
      "-5.911227342107696\n",
      "-4.921131947024543\n",
      "-5.891905863838136\n",
      "-5.91122769489003\n",
      "-5.916343858280099\n",
      "-5.911777968530587\n",
      "-5.911227626458176\n",
      "-5.958376997704242\n",
      "-4.921131947024543\n",
      "-5.91120340136915\n",
      "-5.911777968530587\n",
      "-5.916343858280099\n",
      "-5.744400704182111\n",
      "---------------\n",
      "-4.958637632128557\n",
      "-16.343530596459928\n",
      "-13.31447336276449\n",
      "-1.3342065792694662\n",
      "-10.027758399263133\n",
      "-12.998803293702645\n",
      "-8.360898171639032\n",
      "-9.53987491043468\n",
      "-5.451088311050663\n",
      "-16.21901160738442\n",
      "-4.960667694837814\n",
      "-1.3342065792694662\n",
      "-7.842554684467464\n",
      "-9.534641771367427\n",
      "-1.3342065792694662\n",
      "-13.543068008741901\n",
      "-9.859430106721\n",
      "-5.450865591547146\n",
      "-1.3342065792694662\n",
      "-1.3342065792694662\n",
      "-1.3342065792694662\n",
      "-5.451090634344524\n",
      "-4.960667029775221\n",
      "-1.3342065792694662\n",
      "-1.3342065792694662\n",
      "-9.56741431835442\n",
      "-1.3342065792694662\n",
      "-13.550903778136734\n",
      "-10.591033330657798\n",
      "-17.018622951550096\n",
      "-5.451090884125668\n",
      "-15.57552894168411\n",
      "-10.474043138033595\n",
      "-8.587626805802445\n",
      "-1.3342065792694662\n",
      "-15.580061576139544\n",
      "-4.960667694837814\n",
      "-1.3342065792694662\n",
      "-1.3342065792694662\n",
      "-9.573088247570706\n"
     ]
    }
   ],
   "source": [
    "for i in range(len(X_test)):\n",
    "    data = X_test[i]\n",
    "    data = le.transform(data)\n",
    "    print(model.score(data.reshape(-1, 1)))\n",
    "print(\"---------------\")\n",
    "for i in range(40):\n",
    "    data = X_test_anomaly[i]\n",
    "    data = le.transform(data)\n",
    "    print(model.score(data.reshape(-1, 1)))"
   ]
  },
  {
   "cell_type": "code",
   "execution_count": 39,
   "metadata": {
    "ExecuteTime": {
     "end_time": "2021-10-15T20:03:48.736356Z",
     "start_time": "2021-10-15T20:03:48.689808Z"
    }
   },
   "outputs": [
    {
     "name": "stdout",
     "output_type": "stream",
     "text": [
      "TP = 12 TN = 48 FP = 0 FN = 28\n",
      "Precision = 100% Recall = 30% Fscore = 46%\n"
     ]
    }
   ],
   "source": [
    "# do anomaly detection and obtain precision, recall and F-score\n",
    "TP = 0\n",
    "TN = 0\n",
    "FP = 0\n",
    "FN = 0\n",
    "for i in range(len(X_test_anomaly)):\n",
    "    data = X_test_anomaly[i]\n",
    "    data = le.transform(data)\n",
    "    if(model.score(data.reshape(-1, 1)) < -10.):\n",
    "        positive = 1\n",
    "    else:\n",
    "        positive = 0\n",
    "    if(positive):\n",
    "        if(y_test_anomaly[i] == 1):\n",
    "            TP += 1\n",
    "        else:\n",
    "            FP += 1\n",
    "    else:\n",
    "        if(y_test_anomaly[i] == 0):\n",
    "            TN += 1\n",
    "        else:\n",
    "            FN += 1\n",
    "print(\"TP =\", TP, \"TN =\", TN, \"FP =\", FP, \"FN =\", FN )\n",
    "Precision = \"{:.0%}\".format(TP / (TP + FP))\n",
    "Recall = \"{:.0%}\".format(TP / (TP + FN))\n",
    "Fscore = \"{:.0%}\".format(2 * TP / (2 * TP + FP + FN))\n",
    "print(\"Precision =\", Precision, \"Recall =\", Recall, \"Fscore =\", Fscore)"
   ]
  },
  {
   "cell_type": "code",
   "execution_count": null,
   "metadata": {},
   "outputs": [],
   "source": []
  }
 ],
 "metadata": {
  "kernelspec": {
   "display_name": "Python 3",
   "language": "python",
   "name": "python3"
  },
  "language_info": {
   "codemirror_mode": {
    "name": "ipython",
    "version": 3
   },
   "file_extension": ".py",
   "mimetype": "text/x-python",
   "name": "python",
   "nbconvert_exporter": "python",
   "pygments_lexer": "ipython3",
   "version": "3.7.6"
  }
 },
 "nbformat": 4,
 "nbformat_minor": 4
}
